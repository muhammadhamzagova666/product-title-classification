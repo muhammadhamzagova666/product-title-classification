{
  "cells": [
    {
      "cell_type": "code",
      "execution_count": null,
      "metadata": {
        "id": "OIpzlsY6tkQ2"
      },
      "outputs": [],
      "source": [
        "import sys\n",
        "from google.colab import files\n",
        "sys.path.insert(0,'/content/drive/MyDrive/IR-Project-Colab')"
      ]
    },
    {
      "cell_type": "code",
      "execution_count": null,
      "metadata": {
        "colab": {
          "base_uri": "https://localhost:8080/"
        },
        "id": "L0eTsInWznxH",
        "outputId": "09aa448a-a055-49f3-b201-6fe9c5215d90"
      },
      "outputs": [],
      "source": [
        "from google.colab import drive\n",
        "drive.mount('/content/drive')"
      ]
    },
    {
      "cell_type": "code",
      "execution_count": null,
      "metadata": {
        "id": "YTFbtZ6TuUF5"
      },
      "outputs": [],
      "source": [
        "!cp /content/drive/MyDrive/IR-Project-Colab/Utilities.py /content \n",
        "!cp /content/drive/MyDrive/IR-Project-Colab/KNNImpute.py /content"
      ]
    },
    {
      "cell_type": "code",
      "execution_count": null,
      "metadata": {
        "id": "b9Bn9ZgWfNFa"
      },
      "outputs": [],
      "source": [
        "import Utilities  #THIS IS FOR GOOGLE COLAB USERS ONLY\n",
        "import KNNImpute"
      ]
    },
    {
      "cell_type": "code",
      "execution_count": null,
      "metadata": {
        "id": "s2w4BdsvqQ6_"
      },
      "outputs": [],
      "source": [
        "# Importing Libraries\n",
        "import numpy as np\n",
        "import pandas as pd\n",
        "import re\n",
        "import nltk\n",
        "from nltk.corpus import stopwords\n",
        "from nltk.stem.porter import PorterStemmer\n",
        "\n",
        "\n",
        "from sklearn.feature_extraction.text import TfidfVectorizer   # Turning textual data into numeric for computation\n",
        "from sklearn.preprocessing import LabelEncoder\n",
        "from sklearn.preprocessing import OneHotEncoder               # For encoding categorical target attr\n",
        "from sklearn.preprocessing import OrdinalEncoder\n",
        "from sklearn.preprocessing import StandardScaler\n",
        "from sklearn.model_selection import train_test_split\n",
        "from sklearn.impute import KNNImputer\n",
        "\n",
        "from sklearn.tree import DecisionTreeClassifier\n",
        "from sklearn import svm   # Baseline\n",
        "from sklearn.svm import SVC\n",
        "\n",
        "# ------- Validation metrics\n",
        "from sklearn.metrics import accuracy_score    \n",
        "from sklearn.metrics import precision_score\n",
        "from sklearn.metrics import recall_score\n",
        "from sklearn.metrics import f1_score\n",
        "from sklearn.metrics import cohen_kappa_score\n",
        "from sklearn.metrics import roc_auc_score\n",
        "from sklearn.metrics import confusion_matrix\n",
        "from sklearn.metrics import hamming_loss                  \n",
        "from sklearn.metrics import classification_report\n",
        "\n"
      ]
    },
    {
      "cell_type": "markdown",
      "metadata": {
        "id": "1CH3JJLAq7sL"
      },
      "source": [
        "### ***READING CSV AND KNN IMPUTE***"
      ]
    },
    {
      "cell_type": "code",
      "execution_count": null,
      "metadata": {
        "id": "Gyf-YFzxekAr"
      },
      "outputs": [],
      "source": [
        "nltk.download('stopwords')\n",
        "import pandas as pd\n",
        "labels=[\"country\", \"sku_id\", \"title\", \"category_lvl1\",\"category_lvl2\",\"category_lvl3\", \"description\", \"price\", \"type\"]\n",
        "\n",
        "def getTrainingDataset():\n",
        "    return pd.read_csv('data_train.csv', header=None, names=labels)  \n",
        "\n",
        "\n",
        "def NullStatistics(df):\n",
        "    missing_val = df.isnull().sum()\n",
        "    print(missing_val)\n",
        "    total_cells = np.product(df.shape)\n",
        "    missing_percent = (missing_val.sum()/total_cells) *100\n",
        "    print(f'\\nThe missing data percent is: {missing_percent}')\n",
        "\n",
        "trainingDataset=getTrainingDataset()\n",
        "\n",
        "train_df,Y1,Y2,Y3=Utilities.Cleaning_Data_Utility(trainingDataset) #Utilities.\n",
        "\n",
        "NullStatistics(train_df)\n",
        "\n",
        "unique_label_c1, unique_label_c2, unique_label_c3 = KNNImpute.preserve_label(train_df) #It has all unique values lying in ctg1 , 2 , 3 column\n",
        "\n",
        "KNNImpute.encode(['category_lvl1', 'category_lvl2', 'category_lvl3'],train_df)        #Performed encoding for CTGLVL3 KNN\n",
        "\n",
        "train_df_imputed = KNNImpute.impute(train_df)\n",
        "train_df_imputed =  KNNImpute.clean_csv(train_df_imputed,train_df)\n",
        "NullStatistics(train_df_imputed)"
      ]
    },
    {
      "cell_type": "code",
      "execution_count": null,
      "metadata": {
        "colab": {
          "base_uri": "https://localhost:8080/"
        },
        "id": "89aqumBBLWRy",
        "outputId": "ec410c61-6b0e-48e2-bd5d-6e6b360eee33"
      },
      "outputs": [],
      "source": [
        "print(len(unique_label_c1))\n",
        "print(len(unique_label_c2))\n",
        "print(len(unique_label_c3))"
      ]
    },
    {
      "cell_type": "markdown",
      "metadata": {
        "id": "CCGlqNeBq2Oe"
      },
      "source": [
        "### ***FEATURE ENGINEERING***"
      ]
    },
    {
      "cell_type": "code",
      "execution_count": null,
      "metadata": {
        "id": "T6QEyq5ooDvN"
      },
      "outputs": [],
      "source": [
        "from sklearn.feature_extraction.text import TfidfVectorizer   # Turning textual data into numeric for computation\n",
        "X = train_df_imputed['Title_desc']\n",
        "Y1 = train_df_imputed['category_lvl1']\n",
        "Y2 = train_df_imputed['category_lvl2']\n",
        "Y3 = train_df_imputed['category_lvl3']\n",
        "\n",
        "vectorizer = TfidfVectorizer()  #Only once\n",
        "\n",
        "vectorizer.fit(X)\n",
        "X_tfidf = vectorizer.transform(X)\n",
        "# print(X_tfidf)"
      ]
    },
    {
      "cell_type": "markdown",
      "metadata": {
        "id": "1EUrRGbcrF6n"
      },
      "source": [
        "### ***MODEL TRAINING***"
      ]
    },
    {
      "cell_type": "markdown",
      "metadata": {
        "id": "tntadjFIdYvS"
      },
      "source": [
        "### *CATEGORY* 1 "
      ]
    },
    {
      "cell_type": "code",
      "execution_count": null,
      "metadata": {
        "colab": {
          "base_uri": "https://localhost:8080/"
        },
        "id": "gUb0hZ5Jwlu4",
        "outputId": "89019ce8-27bd-470c-a4f7-5fca2f53c2aa"
      },
      "outputs": [],
      "source": [
        "from sklearn.svm import SVC\n",
        "from sklearn.model_selection import train_test_split\n",
        "from sklearn.preprocessing import StandardScaler\n",
        "\n",
        "\n",
        "# X_tfidf.reshape(-1,1)\n",
        "# X_tfidf\n",
        "X_train, X_test, y_train, y_test = train_test_split(X_tfidf, Y1, test_size=0.3, random_state=42)\n",
        "print (X_train.shape)\n",
        "print (X_test.shape)\n",
        "\n",
        "SVM_Classfier=SVC(kernel='linear' , random_state=0)\n",
        "model1 = SVM_Classfier.fit(X_train,y_train)\n",
        "Y_Pred_c1=model1.predict(X_test)\n",
        "\n",
        "\n",
        "print(Y_Pred_c1)\n",
        "90.47"
      ]
    },
    {
      "cell_type": "markdown",
      "metadata": {
        "id": "7tx1EW5Rrruu"
      },
      "source": [
        "### *CATEGORY 1 STATISTICS*"
      ]
    },
    {
      "cell_type": "code",
      "execution_count": null,
      "metadata": {
        "colab": {
          "base_uri": "https://localhost:8080/",
          "height": 1000
        },
        "id": "AtHdroeXnzpE",
        "outputId": "4cc0089f-d7e8-4d44-ddae-13a69dc40fea"
      },
      "outputs": [],
      "source": [
        "from sklearn import metrics\n",
        "import matplotlib.pyplot as plt\n",
        "from sklearn.metrics import confusion_matrix\n",
        "import seaborn as sns\n",
        "\n",
        "print('Accuracy score with linear kernel is : ')\n",
        "print(metrics.accuracy_score(y_test,Y_Pred_c1)*100)\n",
        "cf_matrix = confusion_matrix(y_test, Y_Pred_c1)\n",
        "print(classification_report(y_test, Y_Pred_c1))\n",
        "\n",
        "plt.figure(figsize=(44,12))\n",
        "\n",
        "sns.heatmap(cf_matrix,annot=True ,fmt='d',  cmap='Blues',square=True ,cbar=True, linewidths=.10, xticklabels= unique_label_c1, yticklabels= unique_label_c1  )\n",
        "plt.ylabel('Actual lable')\n",
        "plt.xlabel('Predicted lable')"
      ]
    },
    {
      "cell_type": "markdown",
      "metadata": {
        "id": "XehXpvXxk81C"
      },
      "source": [
        "### *CATEGORY 2*"
      ]
    },
    {
      "cell_type": "code",
      "execution_count": null,
      "metadata": {
        "colab": {
          "base_uri": "https://localhost:8080/"
        },
        "id": "gydtX7KJms1Z",
        "outputId": "722f13b0-d399-4438-dcb8-5f1205a73a20"
      },
      "outputs": [],
      "source": [
        "from sklearn.svm import SVC\n",
        "from sklearn.model_selection import train_test_split\n",
        "from sklearn.preprocessing import StandardScaler\n",
        "\n",
        "X_train, X_test, y_train, y_test = train_test_split(X_tfidf, Y2, test_size=0.3, stratify= Y2, random_state=42)\n",
        "\n",
        "\n",
        "SVM_Classfier=SVC(kernel='linear' , random_state=0)\n",
        "model2=SVM_Classfier.fit(X_train,y_train)\n",
        "Y_Pred_c2=model2.predict(X_test)\n",
        "print(Y_Pred_c2)\n"
      ]
    },
    {
      "cell_type": "markdown",
      "metadata": {
        "id": "_2JYRd5PtBpr"
      },
      "source": [
        "### *CATEGORY 2 STATISTICS*"
      ]
    },
    {
      "cell_type": "code",
      "execution_count": null,
      "metadata": {
        "colab": {
          "base_uri": "https://localhost:8080/",
          "height": 1000
        },
        "id": "tiFv73NxtDdD",
        "outputId": "8068763e-6991-4948-9ef1-5957633e92cc"
      },
      "outputs": [],
      "source": [
        "print('Accuracy score with linear kernel is : ')\n",
        "print(metrics.accuracy_score(y_test,Y_Pred_c2)*100)\n",
        "\n",
        "cf_matrix = confusion_matrix(y_test, Y_Pred_c2)\n",
        "print(classification_report(y_test, Y_Pred_c2))\n",
        "\n",
        "plt.figure(figsize=(44,12))\n",
        "\n",
        "sns.heatmap(cf_matrix,annot=True ,fmt='d',  cmap='Blues',square=True ,cbar=True, linewidths=.10, xticklabels= unique_label_c2, yticklabels= unique_label_c2  )\n",
        "plt.ylabel('Actual label')\n",
        "plt.xlabel('Predicted label')"
      ]
    },
    {
      "cell_type": "markdown",
      "metadata": {
        "id": "DIwNeXvfk-v3"
      },
      "source": [
        "### *CATEGORY 3*"
      ]
    },
    {
      "cell_type": "code",
      "execution_count": null,
      "metadata": {
        "id": "6t8IV7YKmtZb"
      },
      "outputs": [],
      "source": [
        "X_train, X_test, y_train, y_test = train_test_split(X_tfidf, Y3, test_size=0.3, stratify= Y3, random_state=42)\n",
        "\n",
        "SVM_Classfier=SVC(kernel='linear' , random_state=0)\n",
        "model3=SVM_Classfier.fit(X_train,y_train)\n",
        "Y_Pred_c3=model3.predict(X_test)\n",
        "\n"
      ]
    },
    {
      "cell_type": "markdown",
      "metadata": {
        "id": "7LWK9G4YtUfM"
      },
      "source": [
        "### *CATEGORY 3 STATISTICS*"
      ]
    },
    {
      "cell_type": "code",
      "execution_count": null,
      "metadata": {
        "colab": {
          "base_uri": "https://localhost:8080/",
          "height": 1000
        },
        "id": "OGu-bXh9t60x",
        "outputId": "63d1e059-e315-4fdc-8ebf-8d497498cbc5"
      },
      "outputs": [],
      "source": [
        "print('Accuracy score with linear kernel is : ')\n",
        "print(metrics.accuracy_score(y_test,Y_Pred_c3)*100)\n",
        "\n",
        "cf_matrix = confusion_matrix(y_test, Y_Pred_c3)\n",
        "print(classification_report(y_test, Y_Pred_c3))\n",
        "\n",
        "plt.figure(figsize=(70,70))\n",
        "\n",
        "sns.heatmap(cf_matrix,annot=True ,fmt='d',  cmap='Blues',square=True ,cbar=True, linewidths=.10, xticklabels= unique_label_c3, yticklabels= unique_label_c3  )\n",
        "plt.ylabel('Actual label')\n",
        "plt.xlabel('Predicted label')"
      ]
    },
    {
      "cell_type": "markdown",
      "metadata": {
        "id": "r2ouUNctXa0u"
      },
      "source": [
        "### ***MODEL TESTING***"
      ]
    },
    {
      "cell_type": "markdown",
      "metadata": {
        "id": "-u2vlL8sAyc0"
      },
      "source": [
        "*DATA VALID CSV READ*"
      ]
    },
    {
      "cell_type": "code",
      "execution_count": null,
      "metadata": {
        "colab": {
          "base_uri": "https://localhost:8080/"
        },
        "id": "YCRJp1qq6lcu",
        "outputId": "3a351ff1-767d-4400-a542-9a35eef37f20"
      },
      "outputs": [],
      "source": [
        "\n",
        "labels=[\"country\", \"sku_id\", \"title\", \"category_lvl1\",\"category_lvl2\",\"category_lvl3\", \"description\", \"price\", \"type\"]\n",
        "\n",
        "def NullStatistics(df):\n",
        "    missing_val = df.isnull().sum()\n",
        "    print(missing_val)\n",
        "    total_cells = np.product(df.shape)\n",
        "    missing_percent = (missing_val.sum()/total_cells) *100\n",
        "    print(f'\\nThe missing data percent is: {missing_percent}')\n",
        "\n",
        "testingDataset=pd.read_csv('data_valid.csv' , header=None, names=labels) \n",
        "\n",
        "train_df,Y1,Y2,Y3=Utilities.Cleaning_Data_Utility(testingDataset) \n",
        "\n",
        "NullStatistics(train_df)\n",
        "\n",
        "unique_label_c1, unique_label_c2, unique_label_c3 = KNNImpute.preserve_label(train_df) \n",
        "\n",
        "KNNImpute.encode(['category_lvl1', 'category_lvl2', 'category_lvl3'],train_df)      \n",
        "\n",
        "train_df_imputed = KNNImpute.impute(train_df)\n",
        "train_df_imputed =  KNNImpute.clean_csv(train_df_imputed,train_df)\n",
        "NullStatistics(train_df_imputed)"
      ]
    },
    {
      "cell_type": "code",
      "execution_count": null,
      "metadata": {
        "id": "Xu7x61skDnVV"
      },
      "outputs": [],
      "source": [
        "#Printing Unique Labels in Txt Files.\n"
      ]
    },
    {
      "cell_type": "markdown",
      "metadata": {
        "id": "BLbB4KadA3o0"
      },
      "source": [
        "*FEATURE ENGINEERING*"
      ]
    },
    {
      "cell_type": "code",
      "execution_count": null,
      "metadata": {
        "id": "KvYp0aKk8YfQ"
      },
      "outputs": [],
      "source": [
        "from sklearn.feature_extraction.text import TfidfVectorizer   # Turning textual data into numeric for computation\n",
        "X = train_df_imputed['Title_desc']\n",
        "Y1 = train_df_imputed['category_lvl1']\n",
        "Y2 = train_df_imputed['category_lvl2']\n",
        "Y3 = train_df_imputed['category_lvl3']\n",
        "\n",
        "# vectorizer = TfidfVectorizer()\n",
        "# vectorizer.fit(X)   #Test (Unseen data is never fitted)\n",
        "x_test_tfidf = vectorizer.transform(X)\n",
        "\n"
      ]
    },
    {
      "cell_type": "markdown",
      "metadata": {
        "id": "0luxNrThbssn"
      },
      "source": [
        "### CATEGORY *1* PREDICTION"
      ]
    },
    {
      "cell_type": "code",
      "execution_count": null,
      "metadata": {
        "id": "kFr7tcYMZjGZ"
      },
      "outputs": [],
      "source": [
        "y_pred_cat_one = model1.predict(x_test_tfidf)\n"
      ]
    },
    {
      "cell_type": "markdown",
      "metadata": {
        "id": "NApd96vPBQDW"
      },
      "source": [
        "CATEGORY 1 STATISTICS"
      ]
    },
    {
      "cell_type": "code",
      "execution_count": null,
      "metadata": {
        "id": "efIINBnqBPf9"
      },
      "outputs": [],
      "source": [
        "print(metrics.accuracy_score(Y1, y_pred_cat_one)*100)\n",
        "cf_matrix = confusion_matrix(Y1, y_pred_cat_one)\n",
        "print(classification_report(Y1, y_pred_cat_one))\n",
        "\n",
        "plt.figure(figsize=(44,12))\n",
        "\n",
        "sns.heatmap(cf_matrix,annot=True ,fmt='d',  cmap='Blues',square=True ,cbar=True, linewidths=.10, xticklabels= unique_label_c1, yticklabels= unique_label_c1  )\n",
        "plt.ylabel('Actual label')\n",
        "plt.xlabel('Predicted label')"
      ]
    },
    {
      "cell_type": "markdown",
      "metadata": {
        "id": "iwWt1O9LbxR0"
      },
      "source": [
        "### *CATEGORY 2*"
      ]
    },
    {
      "cell_type": "code",
      "execution_count": null,
      "metadata": {
        "id": "H-ul0u8ibzNG"
      },
      "outputs": [],
      "source": [
        "y_pred_cat_2 = model2.predict(x_test_tfidf)\n"
      ]
    },
    {
      "cell_type": "markdown",
      "metadata": {
        "id": "9DNEu5YyBSU5"
      },
      "source": [
        "CATEGORY 2 STATISTICS"
      ]
    },
    {
      "cell_type": "code",
      "execution_count": null,
      "metadata": {
        "colab": {
          "base_uri": "https://localhost:8080/"
        },
        "id": "Qju_qGyABIrO",
        "outputId": "089cc9e0-b5d8-455b-bbda-de5857eea478"
      },
      "outputs": [],
      "source": [
        "print(metrics.accuracy_score(Y2, y_pred_cat_2)*100)\n",
        "cf_matrix = confusion_matrix(Y2, y_pred_cat_2)\n",
        "print(classification_report(Y2, y_pred_cat_2))\n",
        "\n",
        "plt.figure(figsize=(44,12))\n",
        "\n",
        "sns.heatmap(cf_matrix,annot=True ,fmt='d',  cmap='Blues',square=True ,cbar=True, linewidths=.10, xticklabels= unique_label_c2, yticklabels= unique_label_c2  )\n",
        "plt.ylabel('Actual label')\n",
        "plt.xlabel('Predicted label')"
      ]
    },
    {
      "cell_type": "markdown",
      "metadata": {
        "id": "e8Qj7MRwb_i7"
      },
      "source": [
        "### CATEGORY *3*"
      ]
    },
    {
      "cell_type": "code",
      "execution_count": null,
      "metadata": {
        "colab": {
          "base_uri": "https://localhost:8080/"
        },
        "id": "R70CjMUWcBOb",
        "outputId": "34ad31ea-1512-4137-9b47-d9cbd8053829"
      },
      "outputs": [],
      "source": [
        "y_pred_cat_3 = model3.predict(x_test_tfidf)\n",
        "print(metrics.accuracy_score(Y3, y_pred_cat_3)*100)"
      ]
    },
    {
      "cell_type": "markdown",
      "metadata": {
        "id": "xDj4iiCUBTvP"
      },
      "source": [
        "CATEGORY 3 STATISTICS"
      ]
    },
    {
      "cell_type": "code",
      "execution_count": null,
      "metadata": {
        "id": "6FsHRtc5CL-k"
      },
      "outputs": [],
      "source": [
        "print(metrics.accuracy_score(Y3, y_pred_cat_3)*100)\n",
        "cf_matrix = confusion_matrix(Y3, y_pred_cat_3)\n",
        "print(classification_report(Y3, y_pred_cat_3))\n",
        "\n",
        "plt.figure(figsize=(44,12))\n",
        "\n",
        "sns.heatmap(cf_matrix,annot=True ,fmt='d',  cmap='Blues',square=True ,cbar=True, linewidths=.10, xticklabels= unique_label_c3, yticklabels= unique_label_c3  )\n",
        "plt.ylabel('Actual lable')\n",
        "plt.xlabel('Predicted lable')"
      ]
    },
    {
      "cell_type": "code",
      "execution_count": null,
      "metadata": {
        "colab": {
          "base_uri": "https://localhost:8080/"
        },
        "id": "vt82dWz4yH3M",
        "outputId": "2231f733-24e5-48bf-8d40-33f49866bc2f"
      },
      "outputs": [],
      "source": [
        "def decode_cat01(number):\n",
        "    le =LabelEncoder()\n",
        "    le.fit(unique_label_c1)\n",
        "    LabelEncoder()\n",
        "    # print(list(le.classes_))  # print to check classes\n",
        "    le.transform(unique_label_c1)\n",
        "\n",
        "    return str(le.inverse_transform([number]))\n",
        "\n",
        "def decode_cat02(number):\n",
        "    le =LabelEncoder()\n",
        "    le.fit(unique_label_c2)\n",
        "    LabelEncoder()\n",
        "    # print(list(le.classes_))  # print to check classes\n",
        "    le.transform(unique_label_c2)\n",
        "\n",
        "    return str(le.inverse_transform([number]))\n",
        "\n",
        "def decode_cat03(number):\n",
        "    le =LabelEncoder()\n",
        "    le.fit(unique_label_c3)\n",
        "    LabelEncoder()\n",
        "    # print(list(le.classes_))  # print to check classes\n",
        "    le.transform(unique_label_c3)\n",
        "\n",
        "    return str(le.inverse_transform([number]))\n",
        "    \n",
        "\n",
        "print(decode_cat01(1))\n",
        "print(decode_cat02(29))\n",
        "print(decode_cat03(98))\n"
      ]
    },
    {
      "cell_type": "markdown",
      "metadata": {
        "id": "6ZPCBtEKzP9D"
      },
      "source": [
        "### ***MODEL SAVE***"
      ]
    },
    {
      "cell_type": "code",
      "execution_count": null,
      "metadata": {
        "id": "M-dh8RN1zEZg"
      },
      "outputs": [],
      "source": [
        "import pickle\n",
        "pickle.dump(model1, open('model1.pickle', 'wb'))\n",
        "pickle.dump(model2, open('model2.pickle', 'wb'))\n",
        "pickle.dump(model3, open('model3.pickle', 'wb'))\n"
      ]
    },
    {
      "cell_type": "code",
      "execution_count": null,
      "metadata": {
        "id": "dmtLmEP4Q80t"
      },
      "outputs": [],
      "source": [
        "pickle.dump(model3, open('model3.pickle', 'wb'))\n"
      ]
    },
    {
      "cell_type": "code",
      "execution_count": null,
      "metadata": {
        "id": "aGBvCSbc9kSc"
      },
      "outputs": [],
      "source": [
        "os.listdir('.')"
      ]
    },
    {
      "cell_type": "code",
      "execution_count": null,
      "metadata": {
        "id": "tDHQhvNu3VZl"
      },
      "outputs": [],
      "source": [
        "pickle.dump(vectorizer, open(\"vectorizer.pickle\", \"wb\"))"
      ]
    },
    {
      "cell_type": "markdown",
      "metadata": {
        "id": "B_qCXzZUzdE7"
      },
      "source": [
        "### ***QUERY TESTING***"
      ]
    },
    {
      "cell_type": "code",
      "execution_count": null,
      "metadata": {
        "id": "DoDFT6GK-A-y"
      },
      "outputs": [],
      "source": [
        "def Load_Svm_Models():\n",
        "    model_c1_svm = pickle.load(open('model1.pickle', 'rb'))\n",
        "    model_c2_svm = pickle.load(open('model2.pickle', 'rb'))\n",
        "    model_c3_svm = pickle.load(open('model3.pickle', 'rb'))\n",
        "    return model_c1_svm, model_c2_svm, model_c3_svm\n",
        "\n",
        "# # def Load_Vectorizer():\n",
        "def Predict_Query_SVM(query):\n",
        "    tfidf_vectorizer = pickle.load(open('vectorizer.pickle','rb'))\n",
        "    corpus_vocabulary = defaultdict(None, copy.deepcopy(tfidf_vectorizer.vocabulary_))\n",
        "    corpus_vocabulary.default_factory = corpus_vocabulary.__len__\n",
        "    m1,m2,m3=Load_Svm_Models()\n",
        "    tfidf_transformer_query = TfidfVectorizer()\n",
        "    tfidf_transformer_query.fit_transform(query)\n",
        "\n",
        "    for word in tfidf_transformer_query.vocabulary_.keys():\n",
        "        if word in tfidf_vectorizer.vocabulary_:\n",
        "            corpus_vocabulary[word]\n",
        "\n",
        "    tfidf_transformer_query_sec = TfidfVectorizer(vocabulary=corpus_vocabulary)\n",
        "    query_tfidf_matrix = tfidf_transformer_query_sec.fit_transform(query)\n",
        "    return m1.predict(query_tfidf_matrix), m2.predict(query_tfidf_matrix),m3.predict(query_tfidf_matrix)\n"
      ]
    },
    {
      "cell_type": "code",
      "execution_count": null,
      "metadata": {
        "colab": {
          "base_uri": "https://localhost:8080/"
        },
        "id": "A5BG1oVBze0a",
        "outputId": "5edf911e-bf9d-4375-fca7-d7cbc537c865"
      },
      "outputs": [],
      "source": [
        "query=\"Laptop\"\n",
        "query=Utilities.PreProcessing(query)\n",
        "print(query)\n",
        "query=[query]\n",
        "\n",
        "m1,m2,m3=Predict_Query_SVM(query)\n",
        "Ctg1=decode_cat01(int(m1))\n",
        "Ctg2=decode_cat02(int(m2))\n",
        "Ctg3=decode_cat03(int(m3))\n",
        "print(Ctg1,Ctg2,Ctg3)\n"
      ]
    },
    {
      "cell_type": "code",
      "execution_count": null,
      "metadata": {
        "colab": {
          "base_uri": "https://localhost:8080/"
        },
        "id": "UGx1E7iS2llf",
        "outputId": "229a22e1-4c51-43ef-8eff-1e0fb0661ae5"
      },
      "outputs": [],
      "source": [
        "# from collections import defaultdict\n",
        "# import copy\n",
        "\n",
        "# corpus_vocabulary = defaultdict(None, copy.deepcopy(vectorizer.vocabulary_))\n",
        "# corpus_vocabulary.default_factory = corpus_vocabulary.__len__\n",
        "\n",
        "# tfidf_transformer_query = TfidfVectorizer()\n",
        "# tfidf_transformer_query.fit_transform(query)\n",
        "\n",
        "# for word in tfidf_transformer_query.vocabulary_.keys():\n",
        "#     if word in vectorizer.vocabulary_:\n",
        "#         corpus_vocabulary[word]\n",
        "\n",
        "# tfidf_transformer_query_sec = TfidfVectorizer(vocabulary=corpus_vocabulary)\n",
        "# query_tfidf_matrix = tfidf_transformer_query_sec.fit_transform(query)\n",
        "\n",
        "# Category_1_Output=int(model1.predict(query_tfidf_matrix))\n",
        "# Category_2_Output=int(model2.predict(query_tfidf_matrix))\n",
        "\n",
        "# Category_3_Output=int(model3.predict(query_tfidf_matrix))\n",
        "\n",
        "# Ctg1=decode_cat01(Category_1_Output)\n",
        "# Ctg2=decode_cat02(Category_2_Output)\n",
        "# Ctg3=decode_cat03(Category_3_Output)\n",
        "\n",
        "# print(Ctg1,Ctg2,Ctg3)\n",
        "\n"
      ]
    }
  ],
  "metadata": {
    "colab": {
      "collapsed_sections": [],
      "name": "IR_Project_V3.ipynb",
      "provenance": []
    },
    "kernelspec": {
      "display_name": "Python 3 (ipykernel)",
      "language": "python",
      "name": "python3"
    },
    "language_info": {
      "codemirror_mode": {
        "name": "ipython",
        "version": 3
      },
      "file_extension": ".py",
      "mimetype": "text/x-python",
      "name": "python",
      "nbconvert_exporter": "python",
      "pygments_lexer": "ipython3",
      "version": "3.12.2"
    }
  },
  "nbformat": 4,
  "nbformat_minor": 0
}
