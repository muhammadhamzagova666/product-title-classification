{
  "nbformat": 4,
  "nbformat_minor": 0,
  "metadata": {
    "colab": {
      "provenance": []
    },
    "kernelspec": {
      "name": "python3",
      "display_name": "Python 3"
    },
    "language_info": {
      "name": "python"
    }
  },
  "cells": [
    {
      "cell_type": "code",
      "source": [
        "import numpy as np\n",
        "import pandas as pd\n",
        "from sklearn.tree import DecisionTreeClassifier\n",
        "from sklearn.ensemble import RandomForestClassifier\n",
        "from sklearn.model_selection import train_test_split\n",
        "from sklearn.metrics import classification_report\n",
        "from KNNImpute import preserve_label, encode, impute, clean_csv\n",
        "from Utilities import Cleaning_Data_Utility\n",
        "from sklearn.feature_extraction.text import TfidfVectorizer"
      ],
      "metadata": {
        "id": "cwNnoW-_VjfZ"
      },
      "execution_count": null,
      "outputs": []
    },
    {
      "cell_type": "code",
      "source": [
        "import nltk\n",
        "# Download the required NLTK data\n",
        "nltk.download('stopwords')"
      ],
      "metadata": {
        "colab": {
          "base_uri": "https://localhost:8080/"
        },
        "id": "aimWmrwyapHX",
        "outputId": "fe3fd3e1-2ed0-4aa5-aa9c-64ed3558fd3f"
      },
      "execution_count": 4,
      "outputs": [
        {
          "output_type": "stream",
          "name": "stderr",
          "text": [
            "[nltk_data] Downloading package stopwords to /root/nltk_data...\n",
            "[nltk_data]   Unzipping corpora/stopwords.zip.\n"
          ]
        },
        {
          "output_type": "execute_result",
          "data": {
            "text/plain": [
              "True"
            ]
          },
          "metadata": {},
          "execution_count": 4
        }
      ]
    },
    {
      "cell_type": "code",
      "execution_count": 3,
      "metadata": {
        "colab": {
          "base_uri": "https://localhost:8080/"
        },
        "id": "96Yo7ud8Xkxv",
        "outputId": "d69ab02b-47b1-45e2-934d-954786c9c2ee"
      },
      "outputs": [
        {
          "output_type": "stream",
          "name": "stdout",
          "text": [
            "Index(['country', 'sku_id', 'title', 'category_lvl1', 'category_lvl2',\n",
            "       'category_lvl3', 'description', 'price', 'type'],\n",
            "      dtype='object')\n"
          ]
        }
      ],
      "source": [
        "labels=[\"country\", \"sku_id\", \"title\", \"category_lvl1\",\"category_lvl2\",\"category_lvl3\", \"description\", \"price\", \"type\"]\n",
        "file_path = 'data_train.csv'\n",
        "train_df = pd.read_csv(file_path,header=None, names=labels)\n",
        "print(train_df.columns)"
      ]
    },
    {
      "cell_type": "code",
      "source": [
        "# Load dataset\n",
        "file_path = 'data_train.csv'\n",
        "labels=[\"country\", \"sku_id\", \"title\", \"category_lvl1\",\"category_lvl2\",\"category_lvl3\", \"description\", \"price\", \"type\"]\n",
        "train_df = pd.read_csv(file_path,header=None, names=labels)\n",
        "\n",
        "# Data Preprocessing\n",
        "# Step 1: Cleaning the dataset\n",
        "X, Y1, Y2, Y3 = Cleaning_Data_Utility(train_df)\n",
        "\n",
        "# Step 2: Encoding target columns\n",
        "target_columns = ['category_lvl1', 'category_lvl2', 'category_lvl3']\n",
        "encode(target_columns, train_df)\n",
        "\n",
        "# Step 3: Imputing missing values\n",
        "df_imputed = impute(train_df)\n",
        "train_df[['category_lvl1', 'category_lvl2', 'category_lvl3']] = df_imputed\n",
        "\n",
        "# Step 4: Splitting the dataset\n",
        "X_train, X_test, Y_train, Y_test = train_test_split(\n",
        "    X['titleDescp'], Y1, test_size=0.2, random_state=42\n",
        ")\n",
        "\n",
        "# Step 5: Vectorizing the text data\n",
        "vectorizer = TfidfVectorizer(max_features=5000)\n",
        "X1_train_tfidf = vectorizer.fit_transform(X_train)\n",
        "X1_test_tfidf = vectorizer.transform(X_test)\n",
        "Y1_train = Y_train.astype('category')\n",
        "Y1_test = Y_test.astype('category')\n",
        "# Training Decision Tree Model\n",
        "print(\"Training Decision Tree Classifier...\")\n",
        "decision_tree_category1 = DecisionTreeClassifier(random_state=42)\n",
        "decision_tree_category2 = DecisionTreeClassifier(random_state=42)\n",
        "decision_tree_category3 = DecisionTreeClassifier(random_state=42)\n",
        "\n",
        "decision_tree_category1.fit(X1_train_tfidf, Y1_train)\n",
        "dt_train_predictions = decision_tree_category1.predict(X1_train_tfidf)\n",
        "train_accuracy = accuracy_score(Y1_train, dt_train_predictions)\n",
        "print(\"Decision Tree Classification Report:\\n\", classification_report(Y_test, dt_predictions))\n",
        "print(\"Training Accuracy for category1 is:\", train_accuracy)\n",
        "\n",
        "dt_predictions = decision_tree_category1.predict(X1_test_tfidf)\n",
        "accuracy = accuracy_score(Y1_test, dt_predictions)\n",
        "print(\"Testing Accuracy for category1 is:\", accuracy)\n"
      ],
      "metadata": {
        "colab": {
          "base_uri": "https://localhost:8080/"
        },
        "id": "fJxhlc-bXt_u",
        "outputId": "65624401-3338-4500-886f-2afe75d0c7eb"
      },
      "execution_count": 17,
      "outputs": [
        {
          "output_type": "stream",
          "name": "stderr",
          "text": [
            "/usr/local/lib/python3.10/dist-packages/sklearn/preprocessing/_label.py:110: DataConversionWarning: A column-vector y was passed when a 1d array was expected. Please change the shape of y to (n_samples, ), for example using ravel().\n",
            "  y = column_or_1d(y, warn=True)\n",
            "/usr/local/lib/python3.10/dist-packages/sklearn/preprocessing/_label.py:110: DataConversionWarning: A column-vector y was passed when a 1d array was expected. Please change the shape of y to (n_samples, ), for example using ravel().\n",
            "  y = column_or_1d(y, warn=True)\n",
            "/usr/local/lib/python3.10/dist-packages/sklearn/preprocessing/_label.py:110: DataConversionWarning: A column-vector y was passed when a 1d array was expected. Please change the shape of y to (n_samples, ), for example using ravel().\n",
            "  y = column_or_1d(y, warn=True)\n"
          ]
        },
        {
          "output_type": "stream",
          "name": "stdout",
          "text": [
            "Training Decision Tree Classifier...\n",
            "Training Accuracy for category1 is: 0.9992420588437952\n",
            "Testing Accuracy for category1 is: 0.8208626154058151\n"
          ]
        }
      ]
    },
    {
      "cell_type": "code",
      "source": [
        "# Step 4: Splitting the dataset\n",
        "X2_train, X2_test, Y2_train, Y2_test = train_test_split(\n",
        "    X['titleDescp'], Y2, test_size=0.2, random_state=42\n",
        ")\n",
        "\n",
        "# Step 5: Vectorizing the text data\n",
        "X2_train_tfidf = vectorizer.fit_transform(X2_train)\n",
        "X2_test_tfidf = vectorizer.transform(X2_test)\n",
        "Y2_train = Y2_train.astype('category')\n",
        "Y2_test = Y2_test.astype('category')\n",
        "# Training Decision Tree Model\n",
        "print(\"Training Decision Tree Classifier...\")\n",
        "decision_tree_category2.fit(X2_train_tfidf, Y2_train)\n",
        "dt_train_predictions = decision_tree_category2.predict(X2_train_tfidf)\n",
        "print(\"Decision Tree Classification Report:\\n\", classification_report(Y2_test, dt_predictions))\n",
        "train_accuracy = accuracy_score(Y2_train, dt_train_predictions)\n",
        "print(\"Training Accuracy for category2 is:\", train_accuracy)\n",
        "\n",
        "dt_predictions = decision_tree_category2.predict(X2_test_tfidf)\n",
        "accuracy = accuracy_score(Y2_test, dt_predictions)\n",
        "print(\"Testing Accuracy for category2 is:\", accuracy)\n"
      ],
      "metadata": {
        "colab": {
          "base_uri": "https://localhost:8080/"
        },
        "id": "hiiKYMvGM2R1",
        "outputId": "d48ab68c-b103-4215-c755-f727245cb007"
      },
      "execution_count": 15,
      "outputs": [
        {
          "output_type": "stream",
          "name": "stdout",
          "text": [
            "Training Decision Tree Classifier...\n",
            "Training Accuracy for category2 is: 0.9991387032315855\n",
            "Testing Accuracy for category2 is: 0.7297781452390795\n"
          ]
        }
      ]
    },
    {
      "cell_type": "code",
      "source": [
        "decision_tree_category3 = DecisionTreeClassifier(random_state=42)\n",
        "# Step 4: Splitting the dataset\n",
        "X3_train, X3_test, Y3_train, Y3_test = train_test_split(\n",
        "    X['titleDescp'], Y3, test_size=0.2, random_state=42\n",
        ")\n",
        "\n",
        "# Step 5: Vectorizing the text data\n",
        "vectorizer = TfidfVectorizer(max_features=5000)  # Limit to 5000 features for performance\n",
        "X3_train_tfidf = vectorizer.fit_transform(X3_train)\n",
        "X3_test_tfidf = vectorizer.transform(X3_test)\n",
        "\n",
        "# Remove NaN values from Y3_train and Y3_test\n",
        "Y3_train = Y3_train.fillna(Y3_train.mode()[0])\n",
        "Y3_test = Y3_test.fillna(Y3_test.mode()[0])\n",
        "\n",
        "# Convert Y3_train and Y3_test to numeric\n",
        "Y3_train = pd.to_numeric(Y3_train)\n",
        "Y3_test = pd.to_numeric(Y3_test)\n",
        "\n",
        "# Training Decision Tree\n",
        "print(\"Training Decision Tree Classifier...\")\n",
        "decision_tree_category3.fit(X3_train_tfidf, Y3_train)\n",
        "dt_train_predictions = decision_tree_category3.predict(X3_train_tfidf)\n",
        "train_accuracy = accuracy_score(Y3_train, dt_train_predictions)\n",
        "print(\"Decision Tree Classification Report:\\n\", classification_report(Y3_test, dt_predictions))\n",
        "print(\"Training Accuracy for category3 is:\", train_accuracy)\n",
        "\n",
        "dt_predictions = decision_tree_category3.predict(X3_test_tfidf)\n",
        "accuracy = accuracy_score(Y3_test, dt_predictions)\n",
        "print(\"Testing Accuracy for category3 is:\", accuracy)"
      ],
      "metadata": {
        "colab": {
          "base_uri": "https://localhost:8080/"
        },
        "id": "2elq39nTM7Bt",
        "outputId": "3b190b2e-2f9c-4543-e0fe-fdf3806c165a"
      },
      "execution_count": 14,
      "outputs": [
        {
          "output_type": "stream",
          "name": "stderr",
          "text": [
            "<ipython-input-14-d757f72518c5>:13: FutureWarning: Downcasting object dtype arrays on .fillna, .ffill, .bfill is deprecated and will change in a future version. Call result.infer_objects(copy=False) instead. To opt-in to the future behavior, set `pd.set_option('future.no_silent_downcasting', True)`\n",
            "  Y3_train = Y3_train.fillna(Y3_train.mode()[0])\n",
            "<ipython-input-14-d757f72518c5>:14: FutureWarning: Downcasting object dtype arrays on .fillna, .ffill, .bfill is deprecated and will change in a future version. Call result.infer_objects(copy=False) instead. To opt-in to the future behavior, set `pd.set_option('future.no_silent_downcasting', True)`\n",
            "  Y3_test = Y3_test.fillna(Y3_test.mode()[0])\n"
          ]
        },
        {
          "output_type": "stream",
          "name": "stdout",
          "text": [
            "Training Decision Tree Classifier...\n",
            "Training Accuracy for category3 is: 0.9989664438779026\n",
            "Testing Accuracy for category3 is: 0.6305635937715309\n"
          ]
        }
      ]
    },
    {
      "cell_type": "code",
      "source": [],
      "metadata": {
        "id": "U3GOHNXJaVU2"
      },
      "execution_count": null,
      "outputs": []
    }
  ]
}